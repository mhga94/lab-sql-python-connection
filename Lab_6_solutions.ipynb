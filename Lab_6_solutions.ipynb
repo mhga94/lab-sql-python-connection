{
 "cells": [
  {
   "cell_type": "markdown",
   "id": "52d6ca49-1fe9-4491-af01-0d7bf3a08b1c",
   "metadata": {},
   "source": [
    "In this lab, the objective is to identify the customers who were active in both May and June, and how did their activity differ between months. To achieve this, follow these steps:\n",
    "\n",
    "1. Establish a connection between Python and the Sakila database."
   ]
  },
  {
   "cell_type": "code",
   "execution_count": 59,
   "id": "f2e2ea7a-b458-4d10-a74f-002616ec35d6",
   "metadata": {},
   "outputs": [],
   "source": [
    "import mysql.connector\n",
    "import pandas as pd"
   ]
  },
  {
   "cell_type": "code",
   "execution_count": 61,
   "id": "c1b6af4e-401f-4c9d-9401-0499b877ca07",
   "metadata": {
    "tags": []
   },
   "outputs": [
    {
     "name": "stdin",
     "output_type": "stream",
     "text": [
      " ········\n"
     ]
    }
   ],
   "source": [
    "import getpass\n",
    "password = getpass.getpass()"
   ]
  },
  {
   "cell_type": "code",
   "execution_count": 10,
   "id": "acb3a0c6-82b0-40df-af93-37a93da0a972",
   "metadata": {
    "tags": []
   },
   "outputs": [],
   "source": [
    "conn = mysql.connector.connect(host='localhost',\n",
    "                        user='root',\n",
    "                        passwd=password, database = \"sakila\")"
   ]
  },
  {
   "cell_type": "code",
   "execution_count": 18,
   "id": "37d08421-e15c-4104-b451-c42dc8d7212d",
   "metadata": {
    "tags": []
   },
   "outputs": [],
   "source": [
    "cursor = conn.cursor()"
   ]
  },
  {
   "cell_type": "markdown",
   "id": "304cd963-c860-469e-9ac8-83df57d7465c",
   "metadata": {},
   "source": [
    "2. Write a Python function called rentals_month that retrieves rental data for a given month and year (passed as parameters) from the Sakila database as a Pandas DataFrame. The function should take in three parameters:\n",
    "\n",
    "- engine: an object representing the database connection engine to be used to establish a connection to the Sakila database.\n",
    "- month: an integer representing the month for which rental data is to be retrieved.\n",
    "- year: an integer representing the year for which rental data is to be retrieved.\n",
    "The function should execute a SQL query to retrieve the rental data for the specified month and year from the rental table in the Sakila database, and return it as a pandas DataFrame."
   ]
  },
  {
   "cell_type": "code",
   "execution_count": 83,
   "id": "c9c6ef25-14a5-46ca-ab74-417d142bf364",
   "metadata": {
    "tags": []
   },
   "outputs": [],
   "source": [
    "def rentals_month(cursor, month, year):\n",
    "    query = \"\"\"\n",
    "    SELECT * FROM sakila.rental \n",
    "    WHERE MONTHNAME(rental_date) = %s AND YEAR(rental_date) = %s\n",
    "    \"\"\"\n",
    "    cursor.execute(query, (month, year))\n",
    "    results = cursor.fetchall()\n",
    "    columns = [\"id\", \"rental_date\", \"inventory_id\", \"customer_id\", \"return_date\", \"staff_id\", \"last_update\"]\n",
    "    return pd.DataFrame(results, columns = columns)"
   ]
  },
  {
   "cell_type": "code",
   "execution_count": 85,
   "id": "01ba60c0-2458-42ae-b797-2105f820c0ed",
   "metadata": {
    "tags": []
   },
   "outputs": [],
   "source": [
    "May_rentals = rentals_month(cursor, \"May\", 2005)"
   ]
  },
  {
   "cell_type": "code",
   "execution_count": 97,
   "id": "81e24b0c-88e8-4ad8-8c94-f05a532dac2b",
   "metadata": {
    "tags": []
   },
   "outputs": [
    {
     "data": {
      "text/html": [
       "<div>\n",
       "<style scoped>\n",
       "    .dataframe tbody tr th:only-of-type {\n",
       "        vertical-align: middle;\n",
       "    }\n",
       "\n",
       "    .dataframe tbody tr th {\n",
       "        vertical-align: top;\n",
       "    }\n",
       "\n",
       "    .dataframe thead th {\n",
       "        text-align: right;\n",
       "    }\n",
       "</style>\n",
       "<table border=\"1\" class=\"dataframe\">\n",
       "  <thead>\n",
       "    <tr style=\"text-align: right;\">\n",
       "      <th></th>\n",
       "      <th>id</th>\n",
       "      <th>rental_date</th>\n",
       "      <th>inventory_id</th>\n",
       "      <th>customer_id</th>\n",
       "      <th>return_date</th>\n",
       "      <th>staff_id</th>\n",
       "      <th>last_update</th>\n",
       "    </tr>\n",
       "  </thead>\n",
       "  <tbody>\n",
       "    <tr>\n",
       "      <th>0</th>\n",
       "      <td>1</td>\n",
       "      <td>2005-05-24 22:53:30</td>\n",
       "      <td>367</td>\n",
       "      <td>130</td>\n",
       "      <td>2005-05-26 22:04:30</td>\n",
       "      <td>1</td>\n",
       "      <td>2006-02-15 21:30:53</td>\n",
       "    </tr>\n",
       "    <tr>\n",
       "      <th>1</th>\n",
       "      <td>2</td>\n",
       "      <td>2005-05-24 22:54:33</td>\n",
       "      <td>1525</td>\n",
       "      <td>459</td>\n",
       "      <td>2005-05-28 19:40:33</td>\n",
       "      <td>1</td>\n",
       "      <td>2006-02-15 21:30:53</td>\n",
       "    </tr>\n",
       "    <tr>\n",
       "      <th>2</th>\n",
       "      <td>3</td>\n",
       "      <td>2005-05-24 23:03:39</td>\n",
       "      <td>1711</td>\n",
       "      <td>408</td>\n",
       "      <td>2005-06-01 22:12:39</td>\n",
       "      <td>1</td>\n",
       "      <td>2006-02-15 21:30:53</td>\n",
       "    </tr>\n",
       "    <tr>\n",
       "      <th>3</th>\n",
       "      <td>4</td>\n",
       "      <td>2005-05-24 23:04:41</td>\n",
       "      <td>2452</td>\n",
       "      <td>333</td>\n",
       "      <td>2005-06-03 01:43:41</td>\n",
       "      <td>2</td>\n",
       "      <td>2006-02-15 21:30:53</td>\n",
       "    </tr>\n",
       "    <tr>\n",
       "      <th>4</th>\n",
       "      <td>5</td>\n",
       "      <td>2005-05-24 23:05:21</td>\n",
       "      <td>2079</td>\n",
       "      <td>222</td>\n",
       "      <td>2005-06-02 04:33:21</td>\n",
       "      <td>1</td>\n",
       "      <td>2006-02-15 21:30:53</td>\n",
       "    </tr>\n",
       "    <tr>\n",
       "      <th>...</th>\n",
       "      <td>...</td>\n",
       "      <td>...</td>\n",
       "      <td>...</td>\n",
       "      <td>...</td>\n",
       "      <td>...</td>\n",
       "      <td>...</td>\n",
       "      <td>...</td>\n",
       "    </tr>\n",
       "    <tr>\n",
       "      <th>1151</th>\n",
       "      <td>1153</td>\n",
       "      <td>2005-05-31 21:36:44</td>\n",
       "      <td>2725</td>\n",
       "      <td>506</td>\n",
       "      <td>2005-06-10 01:26:44</td>\n",
       "      <td>2</td>\n",
       "      <td>2006-02-15 21:30:53</td>\n",
       "    </tr>\n",
       "    <tr>\n",
       "      <th>1152</th>\n",
       "      <td>1154</td>\n",
       "      <td>2005-05-31 21:42:09</td>\n",
       "      <td>2732</td>\n",
       "      <td>59</td>\n",
       "      <td>2005-06-08 16:40:09</td>\n",
       "      <td>1</td>\n",
       "      <td>2006-02-15 21:30:53</td>\n",
       "    </tr>\n",
       "    <tr>\n",
       "      <th>1153</th>\n",
       "      <td>1155</td>\n",
       "      <td>2005-05-31 22:17:11</td>\n",
       "      <td>2048</td>\n",
       "      <td>251</td>\n",
       "      <td>2005-06-04 20:27:11</td>\n",
       "      <td>2</td>\n",
       "      <td>2006-02-15 21:30:53</td>\n",
       "    </tr>\n",
       "    <tr>\n",
       "      <th>1154</th>\n",
       "      <td>1156</td>\n",
       "      <td>2005-05-31 22:37:34</td>\n",
       "      <td>460</td>\n",
       "      <td>106</td>\n",
       "      <td>2005-06-01 23:02:34</td>\n",
       "      <td>2</td>\n",
       "      <td>2006-02-15 21:30:53</td>\n",
       "    </tr>\n",
       "    <tr>\n",
       "      <th>1155</th>\n",
       "      <td>1157</td>\n",
       "      <td>2005-05-31 22:47:45</td>\n",
       "      <td>1449</td>\n",
       "      <td>61</td>\n",
       "      <td>2005-06-02 18:01:45</td>\n",
       "      <td>1</td>\n",
       "      <td>2006-02-15 21:30:53</td>\n",
       "    </tr>\n",
       "  </tbody>\n",
       "</table>\n",
       "<p>1156 rows × 7 columns</p>\n",
       "</div>"
      ],
      "text/plain": [
       "        id         rental_date  inventory_id  customer_id         return_date  \\\n",
       "0        1 2005-05-24 22:53:30           367          130 2005-05-26 22:04:30   \n",
       "1        2 2005-05-24 22:54:33          1525          459 2005-05-28 19:40:33   \n",
       "2        3 2005-05-24 23:03:39          1711          408 2005-06-01 22:12:39   \n",
       "3        4 2005-05-24 23:04:41          2452          333 2005-06-03 01:43:41   \n",
       "4        5 2005-05-24 23:05:21          2079          222 2005-06-02 04:33:21   \n",
       "...    ...                 ...           ...          ...                 ...   \n",
       "1151  1153 2005-05-31 21:36:44          2725          506 2005-06-10 01:26:44   \n",
       "1152  1154 2005-05-31 21:42:09          2732           59 2005-06-08 16:40:09   \n",
       "1153  1155 2005-05-31 22:17:11          2048          251 2005-06-04 20:27:11   \n",
       "1154  1156 2005-05-31 22:37:34           460          106 2005-06-01 23:02:34   \n",
       "1155  1157 2005-05-31 22:47:45          1449           61 2005-06-02 18:01:45   \n",
       "\n",
       "      staff_id         last_update  \n",
       "0            1 2006-02-15 21:30:53  \n",
       "1            1 2006-02-15 21:30:53  \n",
       "2            1 2006-02-15 21:30:53  \n",
       "3            2 2006-02-15 21:30:53  \n",
       "4            1 2006-02-15 21:30:53  \n",
       "...        ...                 ...  \n",
       "1151         2 2006-02-15 21:30:53  \n",
       "1152         1 2006-02-15 21:30:53  \n",
       "1153         2 2006-02-15 21:30:53  \n",
       "1154         2 2006-02-15 21:30:53  \n",
       "1155         1 2006-02-15 21:30:53  \n",
       "\n",
       "[1156 rows x 7 columns]"
      ]
     },
     "execution_count": 97,
     "metadata": {},
     "output_type": "execute_result"
    }
   ],
   "source": [
    "May_rentals"
   ]
  },
  {
   "cell_type": "code",
   "execution_count": 109,
   "id": "86801ea4-d106-47bd-984c-e47f21d134a3",
   "metadata": {
    "tags": []
   },
   "outputs": [],
   "source": [
    "grouped = May_rentals.groupby('customer_id')\n",
    "df = grouped['id'].count()\n",
    "new_df = pd.DataFrame(df).reset_index() \n",
    "new_df.columns = ['customer_id','rentals_05_2005']"
   ]
  },
  {
   "cell_type": "markdown",
   "id": "53f38c17-ae81-4056-ad65-5d618557fbd4",
   "metadata": {},
   "source": [
    "3. Develop a Python function called rental_count_month that takes the DataFrame provided by rentals_month as input along with the month and year and returns a new DataFrame containing the number of rentals made by each customer_id during the selected month and year.\n",
    "\n",
    "The function should also include the month and year as parameters and use them to name the new column according to the month and year, for example, if the input month is 05 and the year is 2005, the column name should be \"rentals_05_2005\".\n",
    "\n",
    "Hint: Consider making use of pandas groupby()"
   ]
  },
  {
   "cell_type": "code",
   "execution_count": 113,
   "id": "8c7e458a-7924-4914-b56d-fb3949dcbff9",
   "metadata": {
    "tags": []
   },
   "outputs": [],
   "source": [
    "def rental_count_month(df, month, year):\n",
    "    grouped = df.groupby('customer_id')\n",
    "    df2 = grouped['id'].count()\n",
    "    new_df = pd.DataFrame(df2).reset_index() \n",
    "    new_df.columns = ['customer_id',f'rentals_{month}_{year}']\n",
    "    return new_df"
   ]
  },
  {
   "cell_type": "code",
   "execution_count": 119,
   "id": "6a6f37e1-bc04-47f2-a519-cc7c4201cabe",
   "metadata": {
    "tags": []
   },
   "outputs": [
    {
     "data": {
      "text/html": [
       "<div>\n",
       "<style scoped>\n",
       "    .dataframe tbody tr th:only-of-type {\n",
       "        vertical-align: middle;\n",
       "    }\n",
       "\n",
       "    .dataframe tbody tr th {\n",
       "        vertical-align: top;\n",
       "    }\n",
       "\n",
       "    .dataframe thead th {\n",
       "        text-align: right;\n",
       "    }\n",
       "</style>\n",
       "<table border=\"1\" class=\"dataframe\">\n",
       "  <thead>\n",
       "    <tr style=\"text-align: right;\">\n",
       "      <th></th>\n",
       "      <th>customer_id</th>\n",
       "      <th>rentals_05_2005</th>\n",
       "    </tr>\n",
       "  </thead>\n",
       "  <tbody>\n",
       "    <tr>\n",
       "      <th>0</th>\n",
       "      <td>1</td>\n",
       "      <td>2</td>\n",
       "    </tr>\n",
       "    <tr>\n",
       "      <th>1</th>\n",
       "      <td>2</td>\n",
       "      <td>1</td>\n",
       "    </tr>\n",
       "    <tr>\n",
       "      <th>2</th>\n",
       "      <td>3</td>\n",
       "      <td>2</td>\n",
       "    </tr>\n",
       "    <tr>\n",
       "      <th>3</th>\n",
       "      <td>5</td>\n",
       "      <td>3</td>\n",
       "    </tr>\n",
       "    <tr>\n",
       "      <th>4</th>\n",
       "      <td>6</td>\n",
       "      <td>3</td>\n",
       "    </tr>\n",
       "    <tr>\n",
       "      <th>...</th>\n",
       "      <td>...</td>\n",
       "      <td>...</td>\n",
       "    </tr>\n",
       "    <tr>\n",
       "      <th>515</th>\n",
       "      <td>594</td>\n",
       "      <td>4</td>\n",
       "    </tr>\n",
       "    <tr>\n",
       "      <th>516</th>\n",
       "      <td>595</td>\n",
       "      <td>1</td>\n",
       "    </tr>\n",
       "    <tr>\n",
       "      <th>517</th>\n",
       "      <td>596</td>\n",
       "      <td>6</td>\n",
       "    </tr>\n",
       "    <tr>\n",
       "      <th>518</th>\n",
       "      <td>597</td>\n",
       "      <td>2</td>\n",
       "    </tr>\n",
       "    <tr>\n",
       "      <th>519</th>\n",
       "      <td>599</td>\n",
       "      <td>1</td>\n",
       "    </tr>\n",
       "  </tbody>\n",
       "</table>\n",
       "<p>520 rows × 2 columns</p>\n",
       "</div>"
      ],
      "text/plain": [
       "     customer_id  rentals_05_2005\n",
       "0              1                2\n",
       "1              2                1\n",
       "2              3                2\n",
       "3              5                3\n",
       "4              6                3\n",
       "..           ...              ...\n",
       "515          594                4\n",
       "516          595                1\n",
       "517          596                6\n",
       "518          597                2\n",
       "519          599                1\n",
       "\n",
       "[520 rows x 2 columns]"
      ]
     },
     "execution_count": 119,
     "metadata": {},
     "output_type": "execute_result"
    }
   ],
   "source": [
    "rental_count_month(May_rentals,\"05\",2005)"
   ]
  },
  {
   "cell_type": "markdown",
   "id": "cea9d2bb-ff84-4ead-b7ed-4ccabd7b90ad",
   "metadata": {
    "tags": []
   },
   "source": [
    "4. Create a Python function called compare_rentals that takes two DataFrames as input containing the number of rentals made by each customer in different months and years. The function should return a combined DataFrame with a new 'difference' column, which is the difference between the number of rentals in the two months."
   ]
  },
  {
   "cell_type": "code",
   "execution_count": 129,
   "id": "dcc5056c-42f9-47cd-90c6-31a559d61306",
   "metadata": {
    "tags": []
   },
   "outputs": [],
   "source": [
    "def compare_rentals(df1, df2):\n",
    "    df1_grouped = df1.groupby('customer_id')['id'].count().reset_index()\n",
    "    df1_grouped.columns = ['customer_id', 'rentals_df1']\n",
    "    df2_grouped = df2.groupby('customer_id')['id'].count().reset_index()\n",
    "    df2_grouped.columns = ['customer_id', 'rentals_df2']\n",
    "    df_merge = pd.merge(df1_grouped,df2_grouped,on = 'customer_id', how = 'inner')\n",
    "    df_merge['difference'] = df_merge['rentals_df1'] - df_merge['rentals_df2']\n",
    "    return df_merge"
   ]
  },
  {
   "cell_type": "code",
   "execution_count": 131,
   "id": "50170aff-2068-47c8-9744-25e2c714ea61",
   "metadata": {
    "tags": []
   },
   "outputs": [
    {
     "data": {
      "text/html": [
       "<div>\n",
       "<style scoped>\n",
       "    .dataframe tbody tr th:only-of-type {\n",
       "        vertical-align: middle;\n",
       "    }\n",
       "\n",
       "    .dataframe tbody tr th {\n",
       "        vertical-align: top;\n",
       "    }\n",
       "\n",
       "    .dataframe thead th {\n",
       "        text-align: right;\n",
       "    }\n",
       "</style>\n",
       "<table border=\"1\" class=\"dataframe\">\n",
       "  <thead>\n",
       "    <tr style=\"text-align: right;\">\n",
       "      <th></th>\n",
       "      <th>customer_id</th>\n",
       "      <th>rentals_df1</th>\n",
       "      <th>rentals_df2</th>\n",
       "      <th>difference</th>\n",
       "    </tr>\n",
       "  </thead>\n",
       "  <tbody>\n",
       "    <tr>\n",
       "      <th>0</th>\n",
       "      <td>1</td>\n",
       "      <td>2</td>\n",
       "      <td>2</td>\n",
       "      <td>0</td>\n",
       "    </tr>\n",
       "    <tr>\n",
       "      <th>1</th>\n",
       "      <td>2</td>\n",
       "      <td>1</td>\n",
       "      <td>1</td>\n",
       "      <td>0</td>\n",
       "    </tr>\n",
       "    <tr>\n",
       "      <th>2</th>\n",
       "      <td>3</td>\n",
       "      <td>2</td>\n",
       "      <td>2</td>\n",
       "      <td>0</td>\n",
       "    </tr>\n",
       "    <tr>\n",
       "      <th>3</th>\n",
       "      <td>5</td>\n",
       "      <td>3</td>\n",
       "      <td>3</td>\n",
       "      <td>0</td>\n",
       "    </tr>\n",
       "    <tr>\n",
       "      <th>4</th>\n",
       "      <td>6</td>\n",
       "      <td>3</td>\n",
       "      <td>3</td>\n",
       "      <td>0</td>\n",
       "    </tr>\n",
       "    <tr>\n",
       "      <th>...</th>\n",
       "      <td>...</td>\n",
       "      <td>...</td>\n",
       "      <td>...</td>\n",
       "      <td>...</td>\n",
       "    </tr>\n",
       "    <tr>\n",
       "      <th>515</th>\n",
       "      <td>594</td>\n",
       "      <td>4</td>\n",
       "      <td>4</td>\n",
       "      <td>0</td>\n",
       "    </tr>\n",
       "    <tr>\n",
       "      <th>516</th>\n",
       "      <td>595</td>\n",
       "      <td>1</td>\n",
       "      <td>1</td>\n",
       "      <td>0</td>\n",
       "    </tr>\n",
       "    <tr>\n",
       "      <th>517</th>\n",
       "      <td>596</td>\n",
       "      <td>6</td>\n",
       "      <td>6</td>\n",
       "      <td>0</td>\n",
       "    </tr>\n",
       "    <tr>\n",
       "      <th>518</th>\n",
       "      <td>597</td>\n",
       "      <td>2</td>\n",
       "      <td>2</td>\n",
       "      <td>0</td>\n",
       "    </tr>\n",
       "    <tr>\n",
       "      <th>519</th>\n",
       "      <td>599</td>\n",
       "      <td>1</td>\n",
       "      <td>1</td>\n",
       "      <td>0</td>\n",
       "    </tr>\n",
       "  </tbody>\n",
       "</table>\n",
       "<p>520 rows × 4 columns</p>\n",
       "</div>"
      ],
      "text/plain": [
       "     customer_id  rentals_df1  rentals_df2  difference\n",
       "0              1            2            2           0\n",
       "1              2            1            1           0\n",
       "2              3            2            2           0\n",
       "3              5            3            3           0\n",
       "4              6            3            3           0\n",
       "..           ...          ...          ...         ...\n",
       "515          594            4            4           0\n",
       "516          595            1            1           0\n",
       "517          596            6            6           0\n",
       "518          597            2            2           0\n",
       "519          599            1            1           0\n",
       "\n",
       "[520 rows x 4 columns]"
      ]
     },
     "execution_count": 131,
     "metadata": {},
     "output_type": "execute_result"
    }
   ],
   "source": [
    "compared_df = compare_rentals(May_rentals, May_rentals)\n",
    "compared_df"
   ]
  }
 ],
 "metadata": {
  "kernelspec": {
   "display_name": "Python 3 (ipykernel)",
   "language": "python",
   "name": "python3"
  },
  "language_info": {
   "codemirror_mode": {
    "name": "ipython",
    "version": 3
   },
   "file_extension": ".py",
   "mimetype": "text/x-python",
   "name": "python",
   "nbconvert_exporter": "python",
   "pygments_lexer": "ipython3",
   "version": "3.11.7"
  }
 },
 "nbformat": 4,
 "nbformat_minor": 5
}
